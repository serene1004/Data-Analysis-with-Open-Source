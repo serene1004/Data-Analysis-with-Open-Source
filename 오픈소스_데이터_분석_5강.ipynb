{
  "cells": [
    {
      "cell_type": "markdown",
      "metadata": {
        "colab_type": "text",
        "id": "view-in-github"
      },
      "source": [
        "<a href=\"https://colab.research.google.com/github/serene1004/Data-Analysis-with-Open-Source/blob/main/%EC%98%A4%ED%94%88%EC%86%8C%EC%8A%A4_%EB%8D%B0%EC%9D%B4%ED%84%B0_%EB%B6%84%EC%84%9D_5%EA%B0%95.ipynb\" target=\"_parent\"><img src=\"https://colab.research.google.com/assets/colab-badge.svg\" alt=\"Open In Colab\"/></a>"
      ]
    },
    {
      "cell_type": "markdown",
      "metadata": {
        "id": "O4kC4JMknVnK"
      },
      "source": [
        "# 오픈소스 기반 데이터 분석 5강 - 데이터 저장"
      ]
    },
    {
      "cell_type": "markdown",
      "metadata": {
        "id": "8DfV0cZLqj_s"
      },
      "source": [
        "## 5-1 CSV 형식 저장"
      ]
    },
    {
      "cell_type": "code",
      "execution_count": 4,
      "metadata": {
        "id": "DztLRI9gW2lk"
      },
      "outputs": [],
      "source": [
        "import pandas as pd\n",
        "\n",
        "data = {\n",
        "    'student_id': [101, 102, 103, 104, 105],\n",
        "    'database_score': [85, 76, 92, 63, 88],\n",
        "    'cloudcomputing_score': [78, 82, 95, 70, 84],\n",
        "    'python_score': [92, 78, 85, 75, 91],\n",
        "    'watch_rate': [0.95, 0.87, 0.99, 0.80, 0.93]\n",
        "}\n",
        "## DataFrame 생성\n",
        "df = pd.DataFrame(data)\n",
        "\n",
        "## CSV 형식 저장\n",
        "df.to_csv('student_analysis.csv', encoding = 'utf-8', index = False)"
      ]
    },
    {
      "cell_type": "markdown",
      "metadata": {
        "id": "CSABzaf3q8XU"
      },
      "source": [
        "## 5-2 JSON 형식 저장"
      ]
    },
    {
      "cell_type": "code",
      "execution_count": 9,
      "metadata": {
        "id": "7bAgRpizW7Vj"
      },
      "outputs": [],
      "source": [
        "### 라이브러리 임포트\n",
        "import json\n",
        "import pandas as pd\n",
        "\n",
        "data = {\n",
        "    \"이름\": \"홍길동\",\n",
        "    \"나이\": 25,\n",
        "    \"거주지\": \"서울\",\n",
        "    \"관심사\": [\"프로그래밍\", \"데이터 분석\", \"여행\"]\n",
        "}\n",
        "\n",
        "## json.dump를 이용한 저장\n",
        "with open('output.json', mode='w', encoding = 'utf-8') as f:\n",
        "    json.dump(data, f, indent=4, ensure_ascii=False)\n",
        "## DataFrame을 이용한 저장\n",
        "df = pd.DataFrame([data])\n",
        "df.to_json('output_df.json', orient='records', indent=4, force_ascii=False)"
      ]
    },
    {
      "cell_type": "markdown",
      "metadata": {
        "id": "NMlsQDHtrA_x"
      },
      "source": [
        "## 5-3 Pandas Dataframe 데이터 추출"
      ]
    },
    {
      "cell_type": "code",
      "execution_count": 16,
      "metadata": {
        "colab": {
          "base_uri": "https://localhost:8080/"
        },
        "id": "dk3xneVAW9_g",
        "outputId": "2bd3cf03-084e-47cc-cced-c93338668383"
      },
      "outputs": [
        {
          "name": "stdout",
          "output_type": "stream",
          "text": [
            "RangeIndex(start=0, stop=5, step=1)\n",
            "Index(['이름', '학년', '학점', '학과', '동아리'], dtype='object')\n",
            "[['김철수', 1, 4.2, '컴퓨터학', '프로그래밍'], ['이영희', 2, 3.8, '경영학', '독서토론'], ['박민수', 3, 4.5, '농학', '로봇공학'], ['최지훈', 4, 3.9, '교육학', '봉사활동'], ['정소희', 2, 3.5, '영어영문학', '음악감상']]\n",
            "[['김철수' 1 4.2 '컴퓨터학' '프로그래밍']\n",
            " ['이영희' 2 3.8 '경영학' '독서토론']\n",
            " ['박민수' 3 4.5 '농학' '로봇공학']\n",
            " ['최지훈' 4 3.9 '교육학' '봉사활동']\n",
            " ['정소희' 2 3.5 '영어영문학' '음악감상']]\n",
            "['김철수' 1 4.2 '컴퓨터학' '프로그래밍' '이영희' 2 3.8 '경영학' '독서토론' '박민수' 3 4.5 '농학'\n",
            " '로봇공학' '최지훈' 4 3.9 '교육학' '봉사활동' '정소희' 2 3.5 '영어영문학' '음악감상']\n"
          ]
        }
      ],
      "source": [
        "import pandas as pd\n",
        "\n",
        "data = {\n",
        "    \"이름\": [\"김철수\", \"이영희\", \"박민수\", \"최지훈\", \"정소희\"],\n",
        "    \"학년\": [1, 2, 3, 4, 2],\n",
        "    \"학점\": [4.2, 3.8, 4.5, 3.9, 3.5],\n",
        "    \"학과\": [\"컴퓨터학\", \"경영학\", \"농학\", \"교육학\", \"영어영문학\"],\n",
        "    \"동아리\": [\"프로그래밍\", \"독서토론\", \"로봇공학\", \"봉사활동\", \"음악감상\"]\n",
        "}\n",
        "df = pd.DataFrame(data)\n",
        "\n",
        "## DataFrame 인덱스 출력\n",
        "print(df.index)\n",
        "\n",
        "## DataFrame 컬럼 출력\n",
        "print(df.columns)\n",
        "\n",
        "## DataFrame 행 출력\n",
        "print(df.values.tolist())   ## list (파이썬 기본형)\n",
        "print(df.values)            ## numpy.ndarray\n",
        "\n",
        "## DataFrame 값 출력\n",
        "print(df.values.flatten())  ## flatten - 기존의 구조를 무시하고 나열"
      ]
    },
    {
      "cell_type": "markdown",
      "metadata": {
        "id": "ILJd1GLoseqm"
      },
      "source": [
        "## 5-4 DataFrame 생성 방법"
      ]
    },
    {
      "cell_type": "code",
      "execution_count": 19,
      "metadata": {
        "colab": {
          "base_uri": "https://localhost:8080/"
        },
        "id": "ISnPLEgNXAmi",
        "outputId": "809d888c-2895-4c8c-c1c0-9b9792ea2c8b"
      },
      "outputs": [
        {
          "name": "stdout",
          "output_type": "stream",
          "text": [
            "(5, 5)\n",
            "(5, 5)\n",
            "(5, 5)\n"
          ]
        }
      ],
      "source": [
        "import pandas as pd\n",
        "import json\n",
        "\n",
        "data = {\n",
        "    \"이름\": [\"김철수\", \"이영희\", \"박민수\", \"최지훈\", \"정소희\"],\n",
        "    \"학년\": [1, 2, 3, 4, 2],\n",
        "    \"학점\": [4.2, 3.8, 4.5, 3.9, 3.5],\n",
        "    \"학과\": [\"컴퓨터공학\", \"경영학\", \"전자공학\", \"의학\", \"심리학\"],\n",
        "    \"동아리\": [\"프로그래밍\", \"독서토론\", \"로봇공학\", \"봉사활동\", \"음악감상\"]\n",
        "}\n",
        "\n",
        "## 딕셔너리, csv, json으로 부터 DataFrame 생성\n",
        "df1 = pd.DataFrame.from_dict(data)\n",
        "df2 = pd.read_csv('students.csv')\n",
        "df3 = pd.read_json('students.json')\n",
        "\n",
        "## 세가지 방법 결과 비교\n",
        "print(df1.shape)\n",
        "print(df2.shape)\n",
        "print(df3.shape)"
      ]
    },
    {
      "cell_type": "markdown",
      "metadata": {
        "id": "z1N6lAnwsdyU"
      },
      "source": [
        "## 5-5 DataFrame 저장 방법"
      ]
    },
    {
      "cell_type": "code",
      "execution_count": 22,
      "metadata": {
        "id": "_dqoWCRoXDrJ"
      },
      "outputs": [],
      "source": [
        "import pandas as pd\n",
        "\n",
        "data = {\n",
        "    \"이름\": [\"김철수\", \"이영희\", \"박민수\", \"최지훈\", \"정소희\"],\n",
        "    \"학년\": [1, 2, 3, 4, 2],\n",
        "    \"학점\": [4.2, 3.8, 4.5, 3.9, 3.5],\n",
        "    \"학과\": [\"컴퓨터공학\", \"경영학\", \"전자공학\", \"의학\", \"심리학\"],\n",
        "    \"동아리\": [\"프로그래밍\", \"독서토론\", \"로봇공학\", \"봉사활동\", \"음악감상\"]\n",
        "}\n",
        "\n",
        "## Dataframe 생성\n",
        "df = pd.DataFrame(data)\n",
        "\n",
        "## CSV, JSON 형식으로 저장\n",
        "df.to_csv('students_scores.csv')\n",
        "df.to_json('students_scores.json')\n",
        "\n",
        "## HTML 형식으로 저장\n",
        "html_table = df.to_html()\n",
        "with open('students_scores.html', 'w') as f:\n",
        "    f.write(html_table)"
      ]
    },
    {
      "cell_type": "markdown",
      "metadata": {
        "id": "ifBFAyulsdJb"
      },
      "source": [
        "## 5-6 실습 시나리오"
      ]
    },
    {
      "cell_type": "markdown",
      "metadata": {
        "id": "muFj6okKyXy6"
      },
      "source": [
        "## 데이터 수집"
      ]
    },
    {
      "cell_type": "code",
      "execution_count": null,
      "metadata": {
        "colab": {
          "base_uri": "https://localhost:8080/"
        },
        "id": "7yCozmQeXJcO",
        "outputId": "ea45812c-43b4-4771-e00f-ac37075637f7"
      },
      "outputs": [
        {
          "name": "stdout",
          "output_type": "stream",
          "text": [
            "{'response': {'body': {'totalCount': 840, 'items': [{'informCode': 'O3', 'dataTime': '2025-08-26'}, {'informCode': 'PM25', 'dataTime': '2025-08-26'}, {'informCode': 'PM10', 'dataTime': '2025-08-26'}, {'informCode': 'PM10', 'dataTime': '2025-08-26'}, {'informCode': 'PM25', 'dataTime': '2025-08-26'}, {'informCode': 'PM25', 'dataTime': '2025-08-26'}, {'informCode': 'O3', 'dataTime': '2025-08-26'}, {'informCode': 'O3', 'dataTime': '2025-08-26'}, {'informCode': 'PM10', 'dataTime': '2025-08-26'}, {'informCode': 'PM10', 'dataTime': '2025-08-26'}, {'informCode': 'PM25', 'dataTime': '2025-08-26'}, {'informCode': 'PM25', 'dataTime': '2025-08-26'}, {'informCode': 'O3', 'dataTime': '2025-08-26'}, {'informCode': 'O3', 'dataTime': '2025-08-26'}, {'informCode': 'PM10', 'dataTime': '2025-08-26'}, {'informCode': 'PM10', 'dataTime': '2025-08-26'}, {'informCode': 'PM10', 'dataTime': '2025-08-26'}, {'informCode': 'PM25', 'dataTime': '2025-08-26'}, {'informCode': 'PM25', 'dataTime': '2025-08-26'}, {'informCode': 'PM25', 'dataTime': '2025-08-26'}, {'informCode': 'O3', 'dataTime': '2025-08-26'}, {'informCode': 'O3', 'dataTime': '2025-08-26'}, {'informCode': 'PM10', 'dataTime': '2025-08-26'}, {'informCode': 'PM10', 'dataTime': '2025-08-26'}, {'informCode': 'PM10', 'dataTime': '2025-08-26'}, {'informCode': 'PM25', 'dataTime': '2025-08-26'}, {'informCode': 'PM25', 'dataTime': '2025-08-26'}, {'informCode': 'O3', 'dataTime': '2025-08-26'}, {'informCode': 'PM25', 'dataTime': '2025-08-25'}, {'informCode': 'PM25', 'dataTime': '2025-08-25'}, {'informCode': 'O3', 'dataTime': '2025-08-25'}, {'informCode': 'PM10', 'dataTime': '2025-08-25'}, {'informCode': 'PM10', 'dataTime': '2025-08-25'}, {'informCode': 'PM25', 'dataTime': '2025-08-25'}, {'informCode': 'PM25', 'dataTime': '2025-08-25'}, {'informCode': 'O3', 'dataTime': '2025-08-25'}, {'informCode': 'O3', 'dataTime': '2025-08-25'}, {'informCode': 'PM10', 'dataTime': '2025-08-25'}, {'informCode': 'PM10', 'dataTime': '2025-08-25'}, {'informCode': 'PM25', 'dataTime': '2025-08-25'}, {'informCode': 'PM25', 'dataTime': '2025-08-25'}, {'informCode': 'O3', 'dataTime': '2025-08-25'}, {'informCode': 'O3', 'dataTime': '2025-08-25'}, {'informCode': 'PM10', 'dataTime': '2025-08-25'}, {'informCode': 'PM10', 'dataTime': '2025-08-25'}, {'informCode': 'PM10', 'dataTime': '2025-08-25'}, {'informCode': 'PM25', 'dataTime': '2025-08-25'}, {'informCode': 'PM25', 'dataTime': '2025-08-25'}, {'informCode': 'PM25', 'dataTime': '2025-08-25'}, {'informCode': 'O3', 'dataTime': '2025-08-25'}, {'informCode': 'O3', 'dataTime': '2025-08-25'}, {'informCode': 'PM10', 'dataTime': '2025-08-25'}, {'informCode': 'PM10', 'dataTime': '2025-08-25'}, {'informCode': 'PM10', 'dataTime': '2025-08-25'}, {'informCode': 'PM25', 'dataTime': '2025-08-25'}, {'informCode': 'O3', 'dataTime': '2025-08-25'}, {'informCode': 'O3', 'dataTime': '2025-08-24'}, {'informCode': 'PM25', 'dataTime': '2025-08-24'}, {'informCode': 'PM10', 'dataTime': '2025-08-24'}, {'informCode': 'PM10', 'dataTime': '2025-08-24'}, {'informCode': 'PM25', 'dataTime': '2025-08-24'}, {'informCode': 'PM25', 'dataTime': '2025-08-24'}, {'informCode': 'O3', 'dataTime': '2025-08-24'}, {'informCode': 'O3', 'dataTime': '2025-08-24'}, {'informCode': 'PM10', 'dataTime': '2025-08-24'}, {'informCode': 'PM10', 'dataTime': '2025-08-24'}, {'informCode': 'PM25', 'dataTime': '2025-08-24'}, {'informCode': 'PM25', 'dataTime': '2025-08-24'}, {'informCode': 'O3', 'dataTime': '2025-08-24'}, {'informCode': 'O3', 'dataTime': '2025-08-24'}, {'informCode': 'PM10', 'dataTime': '2025-08-24'}, {'informCode': 'PM10', 'dataTime': '2025-08-24'}, {'informCode': 'PM10', 'dataTime': '2025-08-24'}, {'informCode': 'PM25', 'dataTime': '2025-08-24'}, {'informCode': 'PM25', 'dataTime': '2025-08-24'}, {'informCode': 'PM25', 'dataTime': '2025-08-24'}, {'informCode': 'O3', 'dataTime': '2025-08-24'}, {'informCode': 'O3', 'dataTime': '2025-08-24'}, {'informCode': 'PM10', 'dataTime': '2025-08-24'}, {'informCode': 'PM10', 'dataTime': '2025-08-24'}, {'informCode': 'PM10', 'dataTime': '2025-08-24'}, {'informCode': 'PM25', 'dataTime': '2025-08-24'}, {'informCode': 'PM25', 'dataTime': '2025-08-24'}, {'informCode': 'O3', 'dataTime': '2025-08-24'}, {'informCode': 'PM10', 'dataTime': '2025-08-23'}, {'informCode': 'PM10', 'dataTime': '2025-08-23'}, {'informCode': 'PM25', 'dataTime': '2025-08-23'}, {'informCode': 'PM25', 'dataTime': '2025-08-23'}, {'informCode': 'O3', 'dataTime': '2025-08-23'}, {'informCode': 'O3', 'dataTime': '2025-08-23'}, {'informCode': 'PM10', 'dataTime': '2025-08-23'}, {'informCode': 'PM10', 'dataTime': '2025-08-23'}, {'informCode': 'PM25', 'dataTime': '2025-08-23'}, {'informCode': 'PM25', 'dataTime': '2025-08-23'}, {'informCode': 'O3', 'dataTime': '2025-08-23'}, {'informCode': 'O3', 'dataTime': '2025-08-23'}, {'informCode': 'PM10', 'dataTime': '2025-08-23'}, {'informCode': 'PM10', 'dataTime': '2025-08-23'}, {'informCode': 'PM25', 'dataTime': '2025-08-23'}, {'informCode': 'PM25', 'dataTime': '2025-08-23'}], 'pageNo': 1, 'numOfRows': 100}, 'header': {'resultMsg': 'NORMAL_CODE', 'resultCode': '00'}}}\n"
          ]
        }
      ],
      "source": [
        "import requests\n",
        "\n",
        "url = \"http://apis.data.go.kr/B552584/ArpltnInforInqireSvc/getMinuDustFrcstDspth\"\n",
        "api_key = 'API_KEY'\n",
        "\n",
        "params = {\n",
        "    'serviceKey': api_key,\n",
        "    'returnType': 'json',\n",
        "    'numOfRows': '100',\n",
        "    'pageNo': '1',\n",
        "    'sidoName': '서울',\n",
        "    'ver': '1.0'\n",
        "}\n",
        "\n",
        "## 데이터 수집\n",
        "response = requests.get(url, params=params)\n",
        "\n",
        "## 호출 성공/실패 출력\n",
        "print(response.json())\n"
      ]
    },
    {
      "cell_type": "markdown",
      "metadata": {
        "id": "d6mT4IxkySzI"
      },
      "source": [
        "## 데이터 프레임 생성"
      ]
    },
    {
      "cell_type": "code",
      "execution_count": 41,
      "metadata": {
        "colab": {
          "base_uri": "https://localhost:8080/",
          "height": 477
        },
        "id": "HOOo9qTsXLkB",
        "outputId": "78afd0a9-5b60-4718-c0cd-67bcf419ff9a"
      },
      "outputs": [
        {
          "name": "stdout",
          "output_type": "stream",
          "text": [
            "<class 'list'> 100 {'informCode': 'O3', 'dataTime': '2025-08-26'}\n"
          ]
        },
        {
          "data": {
            "text/html": [
              "<div>\n",
              "<style scoped>\n",
              "    .dataframe tbody tr th:only-of-type {\n",
              "        vertical-align: middle;\n",
              "    }\n",
              "\n",
              "    .dataframe tbody tr th {\n",
              "        vertical-align: top;\n",
              "    }\n",
              "\n",
              "    .dataframe thead th {\n",
              "        text-align: right;\n",
              "    }\n",
              "</style>\n",
              "<table border=\"1\" class=\"dataframe\">\n",
              "  <thead>\n",
              "    <tr style=\"text-align: right;\">\n",
              "      <th></th>\n",
              "      <th>informCode</th>\n",
              "    </tr>\n",
              "  </thead>\n",
              "  <tbody>\n",
              "    <tr>\n",
              "      <th>0</th>\n",
              "      <td>O3</td>\n",
              "    </tr>\n",
              "    <tr>\n",
              "      <th>1</th>\n",
              "      <td>PM25</td>\n",
              "    </tr>\n",
              "    <tr>\n",
              "      <th>2</th>\n",
              "      <td>PM10</td>\n",
              "    </tr>\n",
              "    <tr>\n",
              "      <th>3</th>\n",
              "      <td>PM10</td>\n",
              "    </tr>\n",
              "    <tr>\n",
              "      <th>4</th>\n",
              "      <td>PM25</td>\n",
              "    </tr>\n",
              "    <tr>\n",
              "      <th>...</th>\n",
              "      <td>...</td>\n",
              "    </tr>\n",
              "    <tr>\n",
              "      <th>95</th>\n",
              "      <td>O3</td>\n",
              "    </tr>\n",
              "    <tr>\n",
              "      <th>96</th>\n",
              "      <td>PM10</td>\n",
              "    </tr>\n",
              "    <tr>\n",
              "      <th>97</th>\n",
              "      <td>PM10</td>\n",
              "    </tr>\n",
              "    <tr>\n",
              "      <th>98</th>\n",
              "      <td>PM25</td>\n",
              "    </tr>\n",
              "    <tr>\n",
              "      <th>99</th>\n",
              "      <td>PM25</td>\n",
              "    </tr>\n",
              "  </tbody>\n",
              "</table>\n",
              "<p>100 rows × 1 columns</p>\n",
              "</div><br><label><b>dtype:</b> object</label>"
            ],
            "text/plain": [
              "0       O3\n",
              "1     PM25\n",
              "2     PM10\n",
              "3     PM10\n",
              "4     PM25\n",
              "      ... \n",
              "95      O3\n",
              "96    PM10\n",
              "97    PM10\n",
              "98    PM25\n",
              "99    PM25\n",
              "Name: informCode, Length: 100, dtype: object"
            ]
          },
          "execution_count": 41,
          "metadata": {},
          "output_type": "execute_result"
        }
      ],
      "source": [
        "import pandas as pd\n",
        "\n",
        "## requests로부터 response, body, item 항목 읽기\n",
        "data = response.json()['response']['body']['items']\n",
        "print(type(data), len(data), data[0])\n",
        "\n",
        "df = pd.DataFrame(data)\n",
        "df.head()\n",
        "df['informCode']    ## 가져오고싶은 컬럼"
      ]
    },
    {
      "cell_type": "markdown",
      "metadata": {
        "id": "vVG0HYb0ymeM"
      },
      "source": [
        "## 다양항 형식으로 데이터 저장\n"
      ]
    },
    {
      "cell_type": "code",
      "execution_count": 48,
      "metadata": {
        "id": "HW1ZodpgXNhG"
      },
      "outputs": [],
      "source": [
        "df.to_csv('air_pollution.csv', index=False, encoding='utf-8')\n",
        "\n",
        "## JSON 형식 데이터 저장\n",
        "df.to_json('air_pollution.json', indent=4, force_ascii=False)\n",
        "\n",
        "## EXCEL 형식 데이터 저장\n",
        "df.to_excel('air_pollution.xlsx', index=False)\n",
        "\n",
        "## HTML 형식 데이터 저장\n",
        "df.to_html('air_pollution.html')\n"
      ]
    }
  ],
  "metadata": {
    "colab": {
      "include_colab_link": true,
      "provenance": []
    },
    "kernelspec": {
      "display_name": "Python 3",
      "name": "python3"
    },
    "language_info": {
      "name": "python"
    }
  },
  "nbformat": 4,
  "nbformat_minor": 0
}
